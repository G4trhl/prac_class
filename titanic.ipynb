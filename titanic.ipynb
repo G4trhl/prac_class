{
  "nbformat": 4,
  "nbformat_minor": 0,
  "metadata": {
    "colab": {
      "name": "titanic.ipynb",
      "provenance": [],
      "authorship_tag": "ABX9TyOj7g0bMLd9iFu3tCnVfTh7",
      "include_colab_link": true
    },
    "kernelspec": {
      "name": "python3",
      "display_name": "Python 3"
    },
    "language_info": {
      "name": "python"
    }
  },
  "cells": [
    {
      "cell_type": "markdown",
      "metadata": {
        "id": "view-in-github",
        "colab_type": "text"
      },
      "source": [
        "<a href=\"https://colab.research.google.com/github/G4trhl/prac_class/blob/main/titanic.ipynb\" target=\"_parent\"><img src=\"https://colab.research.google.com/assets/colab-badge.svg\" alt=\"Open In Colab\"/></a>"
      ]
    },
    {
      "cell_type": "code",
      "metadata": {
        "id": "RF8F43zLgO-i"
      },
      "source": [
        "import pandas as pd\n",
        "import numpy as np\n",
        "import matplotlib\n",
        "import seaborn as sns\n",
        "%pylab inline\n",
        "titanics = pd.read_csv('titanic-data.csv'"
      ],
      "execution_count": null,
      "outputs": []
    },
    {
      "cell_type": "code",
      "metadata": {
        "id": "U0PTjTGEgPfi"
      },
      "source": [
        "titanics.info()"
      ],
      "execution_count": null,
      "outputs": []
    },
    {
      "cell_type": "code",
      "metadata": {
        "id": "GL_4u0O2gSYL"
      },
      "source": [
        "titanics.head()"
      ],
      "execution_count": null,
      "outputs": []
    },
    {
      "cell_type": "code",
      "metadata": {
        "id": "pgEypeRTgTMD"
      },
      "source": [
        "remove_none_age = titanics.dropna(axis=0,subset=['Age'])"
      ],
      "execution_count": null,
      "outputs": []
    },
    {
      "cell_type": "code",
      "metadata": {
        "id": "uWjjYIiGgVL2"
      },
      "source": [
        "remove_none_age.head()"
      ],
      "execution_count": null,
      "outputs": []
    },
    {
      "cell_type": "code",
      "metadata": {
        "id": "QuAeDDrMgXtz"
      },
      "source": [
        "remove_none_age['Age'].hist(bins=40)\n",
        "plt.xlabel('Age')\n",
        "plt.ylabel('Count')"
      ],
      "execution_count": null,
      "outputs": []
    }
  ]
}