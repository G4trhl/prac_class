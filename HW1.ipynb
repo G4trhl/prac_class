{
  "nbformat": 4,
  "nbformat_minor": 0,
  "metadata": {
    "colab": {
      "name": "HW1.ipynb",
      "provenance": [],
      "include_colab_link": true
    },
    "kernelspec": {
      "name": "ir",
      "display_name": "R"
    }
  },
  "cells": [
    {
      "cell_type": "markdown",
      "metadata": {
        "id": "view-in-github",
        "colab_type": "text"
      },
      "source": [
        "<a href=\"https://colab.research.google.com/github/G4trhl/prac_class/blob/main/HW1.ipynb\" target=\"_parent\"><img src=\"https://colab.research.google.com/assets/colab-badge.svg\" alt=\"Open In Colab\"/></a>"
      ]
    },
    {
      "cell_type": "markdown",
      "metadata": {
        "id": "wVpB3_uNsIdv"
      },
      "source": [
        "## Homework1 \n",
        "\n",
        "임양강. 20181105\n",
        "\n"
      ]
    },
    {
      "cell_type": "markdown",
      "metadata": {
        "id": "aRGFyEM_sRAG"
      },
      "source": [
        "loading tidyverse package"
      ]
    },
    {
      "cell_type": "code",
      "metadata": {
        "colab": {
          "base_uri": "https://localhost:8080/"
        },
        "id": "Fd8azTo8H-qI",
        "outputId": "f5539717-550d-4511-c14e-b045c2c48b90"
      },
      "source": [
        "library(tidyverse)"
      ],
      "execution_count": null,
      "outputs": [
        {
          "output_type": "stream",
          "text": [
            "Warning message in system(\"timedatectl\", intern = TRUE):\n",
            "“running command 'timedatectl' had status 1”\n",
            "── \u001b[1mAttaching packages\u001b[22m ─────────────────────────────────────── tidyverse 1.3.0 ──\n",
            "\n",
            "\u001b[32m✔\u001b[39m \u001b[34mggplot2\u001b[39m 3.3.3     \u001b[32m✔\u001b[39m \u001b[34mpurrr  \u001b[39m 0.3.4\n",
            "\u001b[32m✔\u001b[39m \u001b[34mtibble \u001b[39m 3.1.0     \u001b[32m✔\u001b[39m \u001b[34mdplyr  \u001b[39m 1.0.5\n",
            "\u001b[32m✔\u001b[39m \u001b[34mtidyr  \u001b[39m 1.1.3     \u001b[32m✔\u001b[39m \u001b[34mstringr\u001b[39m 1.4.0\n",
            "\u001b[32m✔\u001b[39m \u001b[34mreadr  \u001b[39m 1.4.0     \u001b[32m✔\u001b[39m \u001b[34mforcats\u001b[39m 0.5.1\n",
            "\n",
            "── \u001b[1mConflicts\u001b[22m ────────────────────────────────────────── tidyverse_conflicts() ──\n",
            "\u001b[31m✖\u001b[39m \u001b[34mdplyr\u001b[39m::\u001b[32mfilter()\u001b[39m masks \u001b[34mstats\u001b[39m::filter()\n",
            "\u001b[31m✖\u001b[39m \u001b[34mdplyr\u001b[39m::\u001b[32mlag()\u001b[39m    masks \u001b[34mstats\u001b[39m::lag()\n",
            "\n"
          ],
          "name": "stderr"
        }
      ]
    },
    {
      "cell_type": "markdown",
      "metadata": {
        "id": "33yhaNVCsPxH"
      },
      "source": [
        "Install nycflights library"
      ]
    },
    {
      "cell_type": "code",
      "metadata": {
        "colab": {
          "base_uri": "https://localhost:8080/",
          "height": 136
        },
        "id": "IVuuQQ9BC14x",
        "outputId": "e1c46f87-7199-48fa-dcde-8dcc11239264"
      },
      "source": [
        "summary(cars)"
      ],
      "execution_count": null,
      "outputs": [
        {
          "output_type": "display_data",
          "data": {
            "text/plain": [
              "     speed           dist       \n",
              " Min.   : 4.0   Min.   :  2.00  \n",
              " 1st Qu.:12.0   1st Qu.: 26.00  \n",
              " Median :15.0   Median : 36.00  \n",
              " Mean   :15.4   Mean   : 42.98  \n",
              " 3rd Qu.:19.0   3rd Qu.: 56.00  \n",
              " Max.   :25.0   Max.   :120.00  "
            ]
          },
          "metadata": {
            "tags": []
          }
        }
      ]
    },
    {
      "cell_type": "code",
      "metadata": {
        "colab": {
          "base_uri": "https://localhost:8080/",
          "height": 190
        },
        "id": "VhFgEo4HDsZf",
        "outputId": "61895f13-fe4a-4c6a-f0d5-7829caef4411"
      },
      "source": [
        "cars%>%head(3)"
      ],
      "execution_count": null,
      "outputs": [
        {
          "output_type": "display_data",
          "data": {
            "text/plain": [
              "  speed dist\n",
              "1 4      2  \n",
              "2 4     10  \n",
              "3 7      4  "
            ],
            "text/latex": "A data.frame: 3 × 2\n\\begin{tabular}{r|ll}\n  & speed & dist\\\\\n  & <dbl> & <dbl>\\\\\n\\hline\n\t1 & 4 &  2\\\\\n\t2 & 4 & 10\\\\\n\t3 & 7 &  4\\\\\n\\end{tabular}\n",
            "text/markdown": "\nA data.frame: 3 × 2\n\n| <!--/--> | speed &lt;dbl&gt; | dist &lt;dbl&gt; |\n|---|---|---|\n| 1 | 4 |  2 |\n| 2 | 4 | 10 |\n| 3 | 7 |  4 |\n\n",
            "text/html": [
              "<table class=\"dataframe\">\n",
              "<caption>A data.frame: 3 × 2</caption>\n",
              "<thead>\n",
              "\t<tr><th></th><th scope=col>speed</th><th scope=col>dist</th></tr>\n",
              "\t<tr><th></th><th scope=col>&lt;dbl&gt;</th><th scope=col>&lt;dbl&gt;</th></tr>\n",
              "</thead>\n",
              "<tbody>\n",
              "\t<tr><th scope=row>1</th><td>4</td><td> 2</td></tr>\n",
              "\t<tr><th scope=row>2</th><td>4</td><td>10</td></tr>\n",
              "\t<tr><th scope=row>3</th><td>7</td><td> 4</td></tr>\n",
              "</tbody>\n",
              "</table>\n"
            ]
          },
          "metadata": {
            "tags": []
          }
        }
      ]
    },
    {
      "cell_type": "code",
      "metadata": {
        "colab": {
          "base_uri": "https://localhost:8080/",
          "height": 147
        },
        "id": "H3wDOWxCEn7e",
        "outputId": "6241f857-c68f-461d-b611-1a2aa618702f"
      },
      "source": [
        "car%>%summary()"
      ],
      "execution_count": null,
      "outputs": [
        {
          "output_type": "error",
          "ename": "ERROR",
          "evalue": "ignored",
          "traceback": [
            "Error in summary(.): object 'car' not found\nTraceback:\n",
            "1. car %>% summary()",
            "2. summary(.)"
          ]
        }
      ]
    },
    {
      "cell_type": "code",
      "metadata": {
        "colab": {
          "base_uri": "https://localhost:8080/",
          "height": 437
        },
        "id": "v1s-Q0lPEwxr",
        "outputId": "ae2d37cd-efb7-4053-cf60-343ae67c4248"
      },
      "source": [
        "plot(cars)"
      ],
      "execution_count": null,
      "outputs": [
        {
          "output_type": "display_data",
          "data": {
            "image/png": "[encoded data removed]",
            "text/plain": [
              "plot without title"
            ]
          },
          "metadata": {
            "tags": [],
            "image/png": {
              "width": 420,
              "height": 420
            }
          }
        }
      ]
    },
    {
      "cell_type": "code",
      "metadata": {
        "colab": {
          "base_uri": "https://localhost:8080/",
          "height": 437
        },
        "id": "z-usWx9RE6qg",
        "outputId": "d55c5c66-1387-4e50-95fa-dfafd9fff72e"
      },
      "source": [
        "cars %>% plot()"
      ],
      "execution_count": null,
      "outputs": [
        {
          "output_type": "display_data",
          "data": {
            "image/png": "[encoded data removed]",
            "text/plain": [
              "plot without title"
            ]
          },
          "metadata": {
            "tags": [],
            "image/png": {
              "width": 420,
              "height": 420
            }
          }
        }
      ]
    },
    {
      "cell_type": "markdown",
      "metadata": {
        "id": "LJ_2-d6LDrzo"
      },
      "source": [
        ""
      ]
    },
    {
      "cell_type": "markdown",
      "metadata": {
        "id": "_CENKMKFC1hi"
      },
      "source": [
        ""
      ]
    },
    {
      "cell_type": "code",
      "metadata": {
        "colab": {
          "base_uri": "https://localhost:8080/"
        },
        "id": "ow_RIRgBr4P9",
        "outputId": "8ede8112-2711-4cf5-d233-9c40c66d3278"
      },
      "source": [
        "install.packages(\"nycflights13\")"
      ],
      "execution_count": null,
      "outputs": [
        {
          "output_type": "stream",
          "text": [
            "Installing package into ‘/usr/local/lib/R/site-library’\n",
            "(as ‘lib’ is unspecified)\n",
            "\n"
          ],
          "name": "stderr"
        }
      ]
    },
    {
      "cell_type": "markdown",
      "metadata": {
        "id": "yOfLFTD-sYBg"
      },
      "source": [
        "loading nycflights data"
      ]
    },
    {
      "cell_type": "code",
      "metadata": {
        "id": "qhDxvxwcr73i"
      },
      "source": [
        "library(nycflights13)\n"
      ],
      "execution_count": null,
      "outputs": []
    },
    {
      "cell_type": "code",
      "metadata": {
        "id": "0WjpciTBFoRe"
      },
      "source": [
        "?flights"
      ],
      "execution_count": null,
      "outputs": []
    },
    {
      "cell_type": "code",
      "metadata": {
        "colab": {
          "base_uri": "https://localhost:8080/",
          "height": 1000
        },
        "id": "7bNL9-4CFUd-",
        "outputId": "4641fd80-1861-4248-c18a-046594de3904"
      },
      "source": [
        "flights[1:5]"
      ],
      "execution_count": null,
      "outputs": [
        {
          "output_type": "display_data",
          "data": {
            "text/plain": [
              "       year month day dep_time sched_dep_time\n",
              "1      2013 1     1   517      515           \n",
              "2      2013 1     1   533      529           \n",
              "3      2013 1     1   542      540           \n",
              "4      2013 1     1   544      545           \n",
              "5      2013 1     1   554      600           \n",
              "6      2013 1     1   554      558           \n",
              "7      2013 1     1   555      600           \n",
              "8      2013 1     1   557      600           \n",
              "9      2013 1     1   557      600           \n",
              "10     2013 1     1   558      600           \n",
              "11     2013 1     1   558      600           \n",
              "12     2013 1     1   558      600           \n",
              "13     2013 1     1   558      600           \n",
              "14     2013 1     1   558      600           \n",
              "15     2013 1     1   559      600           \n",
              "16     2013 1     1   559      559           \n",
              "17     2013 1     1   559      600           \n",
              "18     2013 1     1   600      600           \n",
              "19     2013 1     1   600      600           \n",
              "20     2013 1     1   601      600           \n",
              "21     2013 1     1   602      610           \n",
              "22     2013 1     1   602      605           \n",
              "23     2013 1     1   606      610           \n",
              "24     2013 1     1   606      610           \n",
              "25     2013 1     1   607      607           \n",
              "26     2013 1     1   608      600           \n",
              "27     2013 1     1   611      600           \n",
              "28     2013 1     1   613      610           \n",
              "29     2013 1     1   615      615           \n",
              "30     2013 1     1   615      615           \n",
              "⋮      ⋮    ⋮     ⋮   ⋮        ⋮             \n",
              "336747 2013 9     30  2123     2125          \n",
              "336748 2013 9     30  2127     2129          \n",
              "336749 2013 9     30  2128     2130          \n",
              "336750 2013 9     30  2129     2059          \n",
              "336751 2013 9     30  2131     2140          \n",
              "336752 2013 9     30  2140     2140          \n",
              "336753 2013 9     30  2142     2129          \n",
              "336754 2013 9     30  2145     2145          \n",
              "336755 2013 9     30  2147     2137          \n",
              "336756 2013 9     30  2149     2156          \n",
              "336757 2013 9     30  2150     2159          \n",
              "336758 2013 9     30  2159     1845          \n",
              "336759 2013 9     30  2203     2205          \n",
              "336760 2013 9     30  2207     2140          \n",
              "336761 2013 9     30  2211     2059          \n",
              "336762 2013 9     30  2231     2245          \n",
              "336763 2013 9     30  2233     2113          \n",
              "336764 2013 9     30  2235     2001          \n",
              "336765 2013 9     30  2237     2245          \n",
              "336766 2013 9     30  2240     2245          \n",
              "336767 2013 9     30  2240     2250          \n",
              "336768 2013 9     30  2241     2246          \n",
              "336769 2013 9     30  2307     2255          \n",
              "336770 2013 9     30  2349     2359          \n",
              "336771 2013 9     30    NA     1842          \n",
              "336772 2013 9     30    NA     1455          \n",
              "336773 2013 9     30    NA     2200          \n",
              "336774 2013 9     30    NA     1210          \n",
              "336775 2013 9     30    NA     1159          \n",
              "336776 2013 9     30    NA      840          "
            ],
            "text/latex": "A tibble: 336776 × 5\n\\begin{tabular}{lllll}\n year & month & day & dep\\_time & sched\\_dep\\_time\\\\\n <int> & <int> & <int> & <int> & <int>\\\\\n\\hline\n\t 2013 & 1 & 1 & 517 & 515\\\\\n\t 2013 & 1 & 1 & 533 & 529\\\\\n\t 2013 & 1 & 1 & 542 & 540\\\\\n\t 2013 & 1 & 1 & 544 & 545\\\\\n\t 2013 & 1 & 1 & 554 & 600\\\\\n\t 2013 & 1 & 1 & 554 & 558\\\\\n\t 2013 & 1 & 1 & 555 & 600\\\\\n\t 2013 & 1 & 1 & 557 & 600\\\\\n\t 2013 & 1 & 1 & 557 & 600\\\\\n\t 2013 & 1 & 1 & 558 & 600\\\\\n\t 2013 & 1 & 1 & 558 & 600\\\\\n\t 2013 & 1 & 1 & 558 & 600\\\\\n\t 2013 & 1 & 1 & 558 & 600\\\\\n\t 2013 & 1 & 1 & 558 & 600\\\\\n\t 2013 & 1 & 1 & 559 & 600\\\\\n\t 2013 & 1 & 1 & 559 & 559\\\\\n\t 2013 & 1 & 1 & 559 & 600\\\\\n\t 2013 & 1 & 1 & 600 & 600\\\\\n\t 2013 & 1 & 1 & 600 & 600\\\\\n\t 2013 & 1 & 1 & 601 & 600\\\\\n\t 2013 & 1 & 1 & 602 & 610\\\\\n\t 2013 & 1 & 1 & 602 & 605\\\\\n\t 2013 & 1 & 1 & 606 & 610\\\\\n\t 2013 & 1 & 1 & 606 & 610\\\\\n\t 2013 & 1 & 1 & 607 & 607\\\\\n\t 2013 & 1 & 1 & 608 & 600\\\\\n\t 2013 & 1 & 1 & 611 & 600\\\\\n\t 2013 & 1 & 1 & 613 & 610\\\\\n\t 2013 & 1 & 1 & 615 & 615\\\\\n\t 2013 & 1 & 1 & 615 & 615\\\\\n\t ⋮ & ⋮ & ⋮ & ⋮ & ⋮\\\\\n\t 2013 & 9 & 30 & 2123 & 2125\\\\\n\t 2013 & 9 & 30 & 2127 & 2129\\\\\n\t 2013 & 9 & 30 & 2128 & 2130\\\\\n\t 2013 & 9 & 30 & 2129 & 2059\\\\\n\t 2013 & 9 & 30 & 2131 & 2140\\\\\n\t 2013 & 9 & 30 & 2140 & 2140\\\\\n\t 2013 & 9 & 30 & 2142 & 2129\\\\\n\t 2013 & 9 & 30 & 2145 & 2145\\\\\n\t 2013 & 9 & 30 & 2147 & 2137\\\\\n\t 2013 & 9 & 30 & 2149 & 2156\\\\\n\t 2013 & 9 & 30 & 2150 & 2159\\\\\n\t 2013 & 9 & 30 & 2159 & 1845\\\\\n\t 2013 & 9 & 30 & 2203 & 2205\\\\\n\t 2013 & 9 & 30 & 2207 & 2140\\\\\n\t 2013 & 9 & 30 & 2211 & 2059\\\\\n\t 2013 & 9 & 30 & 2231 & 2245\\\\\n\t 2013 & 9 & 30 & 2233 & 2113\\\\\n\t 2013 & 9 & 30 & 2235 & 2001\\\\\n\t 2013 & 9 & 30 & 2237 & 2245\\\\\n\t 2013 & 9 & 30 & 2240 & 2245\\\\\n\t 2013 & 9 & 30 & 2240 & 2250\\\\\n\t 2013 & 9 & 30 & 2241 & 2246\\\\\n\t 2013 & 9 & 30 & 2307 & 2255\\\\\n\t 2013 & 9 & 30 & 2349 & 2359\\\\\n\t 2013 & 9 & 30 &   NA & 1842\\\\\n\t 2013 & 9 & 30 &   NA & 1455\\\\\n\t 2013 & 9 & 30 &   NA & 2200\\\\\n\t 2013 & 9 & 30 &   NA & 1210\\\\\n\t 2013 & 9 & 30 &   NA & 1159\\\\\n\t 2013 & 9 & 30 &   NA &  840\\\\\n\\end{tabular}\n",
            "text/markdown": "\nA tibble: 336776 × 5\n\n| year &lt;int&gt; | month &lt;int&gt; | day &lt;int&gt; | dep_time &lt;int&gt; | sched_dep_time &lt;int&gt; |\n|---|---|---|---|---|\n| 2013 | 1 | 1 | 517 | 515 |\n| 2013 | 1 | 1 | 533 | 529 |\n| 2013 | 1 | 1 | 542 | 540 |\n| 2013 | 1 | 1 | 544 | 545 |\n| 2013 | 1 | 1 | 554 | 600 |\n| 2013 | 1 | 1 | 554 | 558 |\n| 2013 | 1 | 1 | 555 | 600 |\n| 2013 | 1 | 1 | 557 | 600 |\n| 2013 | 1 | 1 | 557 | 600 |\n| 2013 | 1 | 1 | 558 | 600 |\n| 2013 | 1 | 1 | 558 | 600 |\n| 2013 | 1 | 1 | 558 | 600 |\n| 2013 | 1 | 1 | 558 | 600 |\n| 2013 | 1 | 1 | 558 | 600 |\n| 2013 | 1 | 1 | 559 | 600 |\n| 2013 | 1 | 1 | 559 | 559 |\n| 2013 | 1 | 1 | 559 | 600 |\n| 2013 | 1 | 1 | 600 | 600 |\n| 2013 | 1 | 1 | 600 | 600 |\n| 2013 | 1 | 1 | 601 | 600 |\n| 2013 | 1 | 1 | 602 | 610 |\n| 2013 | 1 | 1 | 602 | 605 |\n| 2013 | 1 | 1 | 606 | 610 |\n| 2013 | 1 | 1 | 606 | 610 |\n| 2013 | 1 | 1 | 607 | 607 |\n| 2013 | 1 | 1 | 608 | 600 |\n| 2013 | 1 | 1 | 611 | 600 |\n| 2013 | 1 | 1 | 613 | 610 |\n| 2013 | 1 | 1 | 615 | 615 |\n| 2013 | 1 | 1 | 615 | 615 |\n| ⋮ | ⋮ | ⋮ | ⋮ | ⋮ |\n| 2013 | 9 | 30 | 2123 | 2125 |\n| 2013 | 9 | 30 | 2127 | 2129 |\n| 2013 | 9 | 30 | 2128 | 2130 |\n| 2013 | 9 | 30 | 2129 | 2059 |\n| 2013 | 9 | 30 | 2131 | 2140 |\n| 2013 | 9 | 30 | 2140 | 2140 |\n| 2013 | 9 | 30 | 2142 | 2129 |\n| 2013 | 9 | 30 | 2145 | 2145 |\n| 2013 | 9 | 30 | 2147 | 2137 |\n| 2013 | 9 | 30 | 2149 | 2156 |\n| 2013 | 9 | 30 | 2150 | 2159 |\n| 2013 | 9 | 30 | 2159 | 1845 |\n| 2013 | 9 | 30 | 2203 | 2205 |\n| 2013 | 9 | 30 | 2207 | 2140 |\n| 2013 | 9 | 30 | 2211 | 2059 |\n| 2013 | 9 | 30 | 2231 | 2245 |\n| 2013 | 9 | 30 | 2233 | 2113 |\n| 2013 | 9 | 30 | 2235 | 2001 |\n| 2013 | 9 | 30 | 2237 | 2245 |\n| 2013 | 9 | 30 | 2240 | 2245 |\n| 2013 | 9 | 30 | 2240 | 2250 |\n| 2013 | 9 | 30 | 2241 | 2246 |\n| 2013 | 9 | 30 | 2307 | 2255 |\n| 2013 | 9 | 30 | 2349 | 2359 |\n| 2013 | 9 | 30 |   NA | 1842 |\n| 2013 | 9 | 30 |   NA | 1455 |\n| 2013 | 9 | 30 |   NA | 2200 |\n| 2013 | 9 | 30 |   NA | 1210 |\n| 2013 | 9 | 30 |   NA | 1159 |\n| 2013 | 9 | 30 |   NA |  840 |\n\n",
            "text/html": [
              "<table class=\"dataframe\">\n",
              "<caption>A tibble: 336776 × 5</caption>\n",
              "<thead>\n",
              "\t<tr><th scope=col>year</th><th scope=col>month</th><th scope=col>day</th><th scope=col>dep_time</th><th scope=col>sched_dep_time</th></tr>\n",
              "\t<tr><th scope=col>&lt;int&gt;</th><th scope=col>&lt;int&gt;</th><th scope=col>&lt;int&gt;</th><th scope=col>&lt;int&gt;</th><th scope=col>&lt;int&gt;</th></tr>\n",
              "</thead>\n",
              "<tbody>\n",
              "\t<tr><td>2013</td><td>1</td><td>1</td><td>517</td><td>515</td></tr>\n",
              "\t<tr><td>2013</td><td>1</td><td>1</td><td>533</td><td>529</td></tr>\n",
              "\t<tr><td>2013</td><td>1</td><td>1</td><td>542</td><td>540</td></tr>\n",
              "\t<tr><td>2013</td><td>1</td><td>1</td><td>544</td><td>545</td></tr>\n",
              "\t<tr><td>2013</td><td>1</td><td>1</td><td>554</td><td>600</td></tr>\n",
              "\t<tr><td>2013</td><td>1</td><td>1</td><td>554</td><td>558</td></tr>\n",
              "\t<tr><td>2013</td><td>1</td><td>1</td><td>555</td><td>600</td></tr>\n",
              "\t<tr><td>2013</td><td>1</td><td>1</td><td>557</td><td>600</td></tr>\n",
              "\t<tr><td>2013</td><td>1</td><td>1</td><td>557</td><td>600</td></tr>\n",
              "\t<tr><td>2013</td><td>1</td><td>1</td><td>558</td><td>600</td></tr>\n",
              "\t<tr><td>2013</td><td>1</td><td>1</td><td>558</td><td>600</td></tr>\n",
              "\t<tr><td>2013</td><td>1</td><td>1</td><td>558</td><td>600</td></tr>\n",
              "\t<tr><td>2013</td><td>1</td><td>1</td><td>558</td><td>600</td></tr>\n",
              "\t<tr><td>2013</td><td>1</td><td>1</td><td>558</td><td>600</td></tr>\n",
              "\t<tr><td>2013</td><td>1</td><td>1</td><td>559</td><td>600</td></tr>\n",
              "\t<tr><td>2013</td><td>1</td><td>1</td><td>559</td><td>559</td></tr>\n",
              "\t<tr><td>2013</td><td>1</td><td>1</td><td>559</td><td>600</td></tr>\n",
              "\t<tr><td>2013</td><td>1</td><td>1</td><td>600</td><td>600</td></tr>\n",
              "\t<tr><td>2013</td><td>1</td><td>1</td><td>600</td><td>600</td></tr>\n",
              "\t<tr><td>2013</td><td>1</td><td>1</td><td>601</td><td>600</td></tr>\n",
              "\t<tr><td>2013</td><td>1</td><td>1</td><td>602</td><td>610</td></tr>\n",
              "\t<tr><td>2013</td><td>1</td><td>1</td><td>602</td><td>605</td></tr>\n",
              "\t<tr><td>2013</td><td>1</td><td>1</td><td>606</td><td>610</td></tr>\n",
              "\t<tr><td>2013</td><td>1</td><td>1</td><td>606</td><td>610</td></tr>\n",
              "\t<tr><td>2013</td><td>1</td><td>1</td><td>607</td><td>607</td></tr>\n",
              "\t<tr><td>2013</td><td>1</td><td>1</td><td>608</td><td>600</td></tr>\n",
              "\t<tr><td>2013</td><td>1</td><td>1</td><td>611</td><td>600</td></tr>\n",
              "\t<tr><td>2013</td><td>1</td><td>1</td><td>613</td><td>610</td></tr>\n",
              "\t<tr><td>2013</td><td>1</td><td>1</td><td>615</td><td>615</td></tr>\n",
              "\t<tr><td>2013</td><td>1</td><td>1</td><td>615</td><td>615</td></tr>\n",
              "\t<tr><td>⋮</td><td>⋮</td><td>⋮</td><td>⋮</td><td>⋮</td></tr>\n",
              "\t<tr><td>2013</td><td>9</td><td>30</td><td>2123</td><td>2125</td></tr>\n",
              "\t<tr><td>2013</td><td>9</td><td>30</td><td>2127</td><td>2129</td></tr>\n",
              "\t<tr><td>2013</td><td>9</td><td>30</td><td>2128</td><td>2130</td></tr>\n",
              "\t<tr><td>2013</td><td>9</td><td>30</td><td>2129</td><td>2059</td></tr>\n",
              "\t<tr><td>2013</td><td>9</td><td>30</td><td>2131</td><td>2140</td></tr>\n",
              "\t<tr><td>2013</td><td>9</td><td>30</td><td>2140</td><td>2140</td></tr>\n",
              "\t<tr><td>2013</td><td>9</td><td>30</td><td>2142</td><td>2129</td></tr>\n",
              "\t<tr><td>2013</td><td>9</td><td>30</td><td>2145</td><td>2145</td></tr>\n",
              "\t<tr><td>2013</td><td>9</td><td>30</td><td>2147</td><td>2137</td></tr>\n",
              "\t<tr><td>2013</td><td>9</td><td>30</td><td>2149</td><td>2156</td></tr>\n",
              "\t<tr><td>2013</td><td>9</td><td>30</td><td>2150</td><td>2159</td></tr>\n",
              "\t<tr><td>2013</td><td>9</td><td>30</td><td>2159</td><td>1845</td></tr>\n",
              "\t<tr><td>2013</td><td>9</td><td>30</td><td>2203</td><td>2205</td></tr>\n",
              "\t<tr><td>2013</td><td>9</td><td>30</td><td>2207</td><td>2140</td></tr>\n",
              "\t<tr><td>2013</td><td>9</td><td>30</td><td>2211</td><td>2059</td></tr>\n",
              "\t<tr><td>2013</td><td>9</td><td>30</td><td>2231</td><td>2245</td></tr>\n",
              "\t<tr><td>2013</td><td>9</td><td>30</td><td>2233</td><td>2113</td></tr>\n",
              "\t<tr><td>2013</td><td>9</td><td>30</td><td>2235</td><td>2001</td></tr>\n",
              "\t<tr><td>2013</td><td>9</td><td>30</td><td>2237</td><td>2245</td></tr>\n",
              "\t<tr><td>2013</td><td>9</td><td>30</td><td>2240</td><td>2245</td></tr>\n",
              "\t<tr><td>2013</td><td>9</td><td>30</td><td>2240</td><td>2250</td></tr>\n",
              "\t<tr><td>2013</td><td>9</td><td>30</td><td>2241</td><td>2246</td></tr>\n",
              "\t<tr><td>2013</td><td>9</td><td>30</td><td>2307</td><td>2255</td></tr>\n",
              "\t<tr><td>2013</td><td>9</td><td>30</td><td>2349</td><td>2359</td></tr>\n",
              "\t<tr><td>2013</td><td>9</td><td>30</td><td>  NA</td><td>1842</td></tr>\n",
              "\t<tr><td>2013</td><td>9</td><td>30</td><td>  NA</td><td>1455</td></tr>\n",
              "\t<tr><td>2013</td><td>9</td><td>30</td><td>  NA</td><td>2200</td></tr>\n",
              "\t<tr><td>2013</td><td>9</td><td>30</td><td>  NA</td><td>1210</td></tr>\n",
              "\t<tr><td>2013</td><td>9</td><td>30</td><td>  NA</td><td>1159</td></tr>\n",
              "\t<tr><td>2013</td><td>9</td><td>30</td><td>  NA</td><td> 840</td></tr>\n",
              "</tbody>\n",
              "</table>\n"
            ]
          },
          "metadata": {
            "tags": []
          }
        }
      ]
    },
    {
      "cell_type": "code",
      "metadata": {
        "id": "vnntsyZXFet3"
      },
      "source": [
        "?fights"
      ],
      "execution_count": null,
      "outputs": []
    },
    {
      "cell_type": "markdown",
      "metadata": {
        "id": "VI--wBLIGOEc"
      },
      "source": [
        "Filter rows with filter()"
      ]
    },
    {
      "cell_type": "code",
      "metadata": {
        "colab": {
          "base_uri": "https://localhost:8080/",
          "height": 261
        },
        "id": "fMR9Xms8HQMx",
        "outputId": "84aa03fe-7584-4f9c-80a7-20fc4baafd07"
      },
      "source": [
        "flights %>% filter(month==10 & day==10) %>% head(3)"
      ],
      "execution_count": null,
      "outputs": [
        {
          "output_type": "display_data",
          "data": {
            "text/plain": [
              "  year month day dep_time sched_dep_time dep_delay arr_time sched_arr_time\n",
              "1 2013 10    10  457      500            -3        637      648           \n",
              "2 2013 10    10  515      517            -2        736      757           \n",
              "3 2013 10    10  537      545            -8        923      933           \n",
              "  arr_delay carrier flight tailnum origin dest air_time distance hour minute\n",
              "1 -11       US      1843   N564UW  EWR    CLT   83       529     5     0    \n",
              "2 -21       UA       252   N544UA  EWR    IAH  178      1400     5    17    \n",
              "3 -10       B6      1403   N608JB  JFK    SJU  203      1598     5    45    \n",
              "  time_hour          \n",
              "1 2013-10-10 05:00:00\n",
              "2 2013-10-10 05:00:00\n",
              "3 2013-10-10 05:00:00"
            ],
            "text/latex": "A tibble: 3 × 19\n\\begin{tabular}{lllllllllllllllllll}\n year & month & day & dep\\_time & sched\\_dep\\_time & dep\\_delay & arr\\_time & sched\\_arr\\_time & arr\\_delay & carrier & flight & tailnum & origin & dest & air\\_time & distance & hour & minute & time\\_hour\\\\\n <int> & <int> & <int> & <int> & <int> & <dbl> & <int> & <int> & <dbl> & <chr> & <int> & <chr> & <chr> & <chr> & <dbl> & <dbl> & <dbl> & <dbl> & <dttm>\\\\\n\\hline\n\t 2013 & 10 & 10 & 457 & 500 & -3 & 637 & 648 & -11 & US & 1843 & N564UW & EWR & CLT &  83 &  529 & 5 &  0 & 2013-10-10 05:00:00\\\\\n\t 2013 & 10 & 10 & 515 & 517 & -2 & 736 & 757 & -21 & UA &  252 & N544UA & EWR & IAH & 178 & 1400 & 5 & 17 & 2013-10-10 05:00:00\\\\\n\t 2013 & 10 & 10 & 537 & 545 & -8 & 923 & 933 & -10 & B6 & 1403 & N608JB & JFK & SJU & 203 & 1598 & 5 & 45 & 2013-10-10 05:00:00\\\\\n\\end{tabular}\n",
            "text/markdown": "\nA tibble: 3 × 19\n\n| year &lt;int&gt; | month &lt;int&gt; | day &lt;int&gt; | dep_time &lt;int&gt; | sched_dep_time &lt;int&gt; | dep_delay &lt;dbl&gt; | arr_time &lt;int&gt; | sched_arr_time &lt;int&gt; | arr_delay &lt;dbl&gt; | carrier &lt;chr&gt; | flight &lt;int&gt; | tailnum &lt;chr&gt; | origin &lt;chr&gt; | dest &lt;chr&gt; | air_time &lt;dbl&gt; | distance &lt;dbl&gt; | hour &lt;dbl&gt; | minute &lt;dbl&gt; | time_hour &lt;dttm&gt; |\n|---|---|---|---|---|---|---|---|---|---|---|---|---|---|---|---|---|---|---|\n| 2013 | 10 | 10 | 457 | 500 | -3 | 637 | 648 | -11 | US | 1843 | N564UW | EWR | CLT |  83 |  529 | 5 |  0 | 2013-10-10 05:00:00 |\n| 2013 | 10 | 10 | 515 | 517 | -2 | 736 | 757 | -21 | UA |  252 | N544UA | EWR | IAH | 178 | 1400 | 5 | 17 | 2013-10-10 05:00:00 |\n| 2013 | 10 | 10 | 537 | 545 | -8 | 923 | 933 | -10 | B6 | 1403 | N608JB | JFK | SJU | 203 | 1598 | 5 | 45 | 2013-10-10 05:00:00 |\n\n",
            "text/html": [
              "<table class=\"dataframe\">\n",
              "<caption>A tibble: 3 × 19</caption>\n",
              "<thead>\n",
              "\t<tr><th scope=col>year</th><th scope=col>month</th><th scope=col>day</th><th scope=col>dep_time</th><th scope=col>sched_dep_time</th><th scope=col>dep_delay</th><th scope=col>arr_time</th><th scope=col>sched_arr_time</th><th scope=col>arr_delay</th><th scope=col>carrier</th><th scope=col>flight</th><th scope=col>tailnum</th><th scope=col>origin</th><th scope=col>dest</th><th scope=col>air_time</th><th scope=col>distance</th><th scope=col>hour</th><th scope=col>minute</th><th scope=col>time_hour</th></tr>\n",
              "\t<tr><th scope=col>&lt;int&gt;</th><th scope=col>&lt;int&gt;</th><th scope=col>&lt;int&gt;</th><th scope=col>&lt;int&gt;</th><th scope=col>&lt;int&gt;</th><th scope=col>&lt;dbl&gt;</th><th scope=col>&lt;int&gt;</th><th scope=col>&lt;int&gt;</th><th scope=col>&lt;dbl&gt;</th><th scope=col>&lt;chr&gt;</th><th scope=col>&lt;int&gt;</th><th scope=col>&lt;chr&gt;</th><th scope=col>&lt;chr&gt;</th><th scope=col>&lt;chr&gt;</th><th scope=col>&lt;dbl&gt;</th><th scope=col>&lt;dbl&gt;</th><th scope=col>&lt;dbl&gt;</th><th scope=col>&lt;dbl&gt;</th><th scope=col>&lt;dttm&gt;</th></tr>\n",
              "</thead>\n",
              "<tbody>\n",
              "\t<tr><td>2013</td><td>10</td><td>10</td><td>457</td><td>500</td><td>-3</td><td>637</td><td>648</td><td>-11</td><td>US</td><td>1843</td><td>N564UW</td><td>EWR</td><td>CLT</td><td> 83</td><td> 529</td><td>5</td><td> 0</td><td>2013-10-10 05:00:00</td></tr>\n",
              "\t<tr><td>2013</td><td>10</td><td>10</td><td>515</td><td>517</td><td>-2</td><td>736</td><td>757</td><td>-21</td><td>UA</td><td> 252</td><td>N544UA</td><td>EWR</td><td>IAH</td><td>178</td><td>1400</td><td>5</td><td>17</td><td>2013-10-10 05:00:00</td></tr>\n",
              "\t<tr><td>2013</td><td>10</td><td>10</td><td>537</td><td>545</td><td>-8</td><td>923</td><td>933</td><td>-10</td><td>B6</td><td>1403</td><td>N608JB</td><td>JFK</td><td>SJU</td><td>203</td><td>1598</td><td>5</td><td>45</td><td>2013-10-10 05:00:00</td></tr>\n",
              "</tbody>\n",
              "</table>\n"
            ]
          },
          "metadata": {
            "tags": []
          }
        }
      ]
    },
    {
      "cell_type": "code",
      "metadata": {
        "colab": {
          "base_uri": "https://localhost:8080/",
          "height": 261
        },
        "id": "HaJC2zxmGsNe",
        "outputId": "959a0032-aeda-4748-9452-f92ca72cb909"
      },
      "source": [
        "filter(flights,month==10 & day==10) %>% head(3)"
      ],
      "execution_count": null,
      "outputs": [
        {
          "output_type": "display_data",
          "data": {
            "text/plain": [
              "  year month day dep_time sched_dep_time dep_delay arr_time sched_arr_time\n",
              "1 2013 10    10  457      500            -3        637      648           \n",
              "2 2013 10    10  515      517            -2        736      757           \n",
              "3 2013 10    10  537      545            -8        923      933           \n",
              "  arr_delay carrier flight tailnum origin dest air_time distance hour minute\n",
              "1 -11       US      1843   N564UW  EWR    CLT   83       529     5     0    \n",
              "2 -21       UA       252   N544UA  EWR    IAH  178      1400     5    17    \n",
              "3 -10       B6      1403   N608JB  JFK    SJU  203      1598     5    45    \n",
              "  time_hour          \n",
              "1 2013-10-10 05:00:00\n",
              "2 2013-10-10 05:00:00\n",
              "3 2013-10-10 05:00:00"
            ],
            "text/latex": "A tibble: 3 × 19\n\\begin{tabular}{lllllllllllllllllll}\n year & month & day & dep\\_time & sched\\_dep\\_time & dep\\_delay & arr\\_time & sched\\_arr\\_time & arr\\_delay & carrier & flight & tailnum & origin & dest & air\\_time & distance & hour & minute & time\\_hour\\\\\n <int> & <int> & <int> & <int> & <int> & <dbl> & <int> & <int> & <dbl> & <chr> & <int> & <chr> & <chr> & <chr> & <dbl> & <dbl> & <dbl> & <dbl> & <dttm>\\\\\n\\hline\n\t 2013 & 10 & 10 & 457 & 500 & -3 & 637 & 648 & -11 & US & 1843 & N564UW & EWR & CLT &  83 &  529 & 5 &  0 & 2013-10-10 05:00:00\\\\\n\t 2013 & 10 & 10 & 515 & 517 & -2 & 736 & 757 & -21 & UA &  252 & N544UA & EWR & IAH & 178 & 1400 & 5 & 17 & 2013-10-10 05:00:00\\\\\n\t 2013 & 10 & 10 & 537 & 545 & -8 & 923 & 933 & -10 & B6 & 1403 & N608JB & JFK & SJU & 203 & 1598 & 5 & 45 & 2013-10-10 05:00:00\\\\\n\\end{tabular}\n",
            "text/markdown": "\nA tibble: 3 × 19\n\n| year &lt;int&gt; | month &lt;int&gt; | day &lt;int&gt; | dep_time &lt;int&gt; | sched_dep_time &lt;int&gt; | dep_delay &lt;dbl&gt; | arr_time &lt;int&gt; | sched_arr_time &lt;int&gt; | arr_delay &lt;dbl&gt; | carrier &lt;chr&gt; | flight &lt;int&gt; | tailnum &lt;chr&gt; | origin &lt;chr&gt; | dest &lt;chr&gt; | air_time &lt;dbl&gt; | distance &lt;dbl&gt; | hour &lt;dbl&gt; | minute &lt;dbl&gt; | time_hour &lt;dttm&gt; |\n|---|---|---|---|---|---|---|---|---|---|---|---|---|---|---|---|---|---|---|\n| 2013 | 10 | 10 | 457 | 500 | -3 | 637 | 648 | -11 | US | 1843 | N564UW | EWR | CLT |  83 |  529 | 5 |  0 | 2013-10-10 05:00:00 |\n| 2013 | 10 | 10 | 515 | 517 | -2 | 736 | 757 | -21 | UA |  252 | N544UA | EWR | IAH | 178 | 1400 | 5 | 17 | 2013-10-10 05:00:00 |\n| 2013 | 10 | 10 | 537 | 545 | -8 | 923 | 933 | -10 | B6 | 1403 | N608JB | JFK | SJU | 203 | 1598 | 5 | 45 | 2013-10-10 05:00:00 |\n\n",
            "text/html": [
              "<table class=\"dataframe\">\n",
              "<caption>A tibble: 3 × 19</caption>\n",
              "<thead>\n",
              "\t<tr><th scope=col>year</th><th scope=col>month</th><th scope=col>day</th><th scope=col>dep_time</th><th scope=col>sched_dep_time</th><th scope=col>dep_delay</th><th scope=col>arr_time</th><th scope=col>sched_arr_time</th><th scope=col>arr_delay</th><th scope=col>carrier</th><th scope=col>flight</th><th scope=col>tailnum</th><th scope=col>origin</th><th scope=col>dest</th><th scope=col>air_time</th><th scope=col>distance</th><th scope=col>hour</th><th scope=col>minute</th><th scope=col>time_hour</th></tr>\n",
              "\t<tr><th scope=col>&lt;int&gt;</th><th scope=col>&lt;int&gt;</th><th scope=col>&lt;int&gt;</th><th scope=col>&lt;int&gt;</th><th scope=col>&lt;int&gt;</th><th scope=col>&lt;dbl&gt;</th><th scope=col>&lt;int&gt;</th><th scope=col>&lt;int&gt;</th><th scope=col>&lt;dbl&gt;</th><th scope=col>&lt;chr&gt;</th><th scope=col>&lt;int&gt;</th><th scope=col>&lt;chr&gt;</th><th scope=col>&lt;chr&gt;</th><th scope=col>&lt;chr&gt;</th><th scope=col>&lt;dbl&gt;</th><th scope=col>&lt;dbl&gt;</th><th scope=col>&lt;dbl&gt;</th><th scope=col>&lt;dbl&gt;</th><th scope=col>&lt;dttm&gt;</th></tr>\n",
              "</thead>\n",
              "<tbody>\n",
              "\t<tr><td>2013</td><td>10</td><td>10</td><td>457</td><td>500</td><td>-3</td><td>637</td><td>648</td><td>-11</td><td>US</td><td>1843</td><td>N564UW</td><td>EWR</td><td>CLT</td><td> 83</td><td> 529</td><td>5</td><td> 0</td><td>2013-10-10 05:00:00</td></tr>\n",
              "\t<tr><td>2013</td><td>10</td><td>10</td><td>515</td><td>517</td><td>-2</td><td>736</td><td>757</td><td>-21</td><td>UA</td><td> 252</td><td>N544UA</td><td>EWR</td><td>IAH</td><td>178</td><td>1400</td><td>5</td><td>17</td><td>2013-10-10 05:00:00</td></tr>\n",
              "\t<tr><td>2013</td><td>10</td><td>10</td><td>537</td><td>545</td><td>-8</td><td>923</td><td>933</td><td>-10</td><td>B6</td><td>1403</td><td>N608JB</td><td>JFK</td><td>SJU</td><td>203</td><td>1598</td><td>5</td><td>45</td><td>2013-10-10 05:00:00</td></tr>\n",
              "</tbody>\n",
              "</table>\n"
            ]
          },
          "metadata": {
            "tags": []
          }
        }
      ]
    },
    {
      "cell_type": "code",
      "metadata": {
        "colab": {
          "base_uri": "https://localhost:8080/",
          "height": 405
        },
        "id": "NVFBLW-lGXPq",
        "outputId": "78ecfe27-63e5-4281-883d-87e28f49b4b7"
      },
      "source": [
        "flights %>% filter(month==1,day==1) %>% filter(dest == 'ORD') %>%head()"
      ],
      "execution_count": null,
      "outputs": [
        {
          "output_type": "display_data",
          "data": {
            "text/plain": [
              "  year month day dep_time sched_dep_time dep_delay arr_time sched_arr_time\n",
              "1 2013 1     1   554      558            -4        740      728           \n",
              "2 2013 1     1   558      600            -2        753      745           \n",
              "3 2013 1     1   608      600             8        807      735           \n",
              "4 2013 1     1   629      630            -1        824      810           \n",
              "5 2013 1     1   656      700            -4        854      850           \n",
              "6 2013 1     1   709      700             9        852      832           \n",
              "  arr_delay carrier flight tailnum origin dest air_time distance hour minute\n",
              "1 12        UA      1696   N39463  EWR    ORD  150      719      5    58    \n",
              "2  8        AA       301   N3ALAA  LGA    ORD  138      733      6     0    \n",
              "3 32        MQ      3768   N9EAMQ  EWR    ORD  139      719      6     0    \n",
              "4 14        AA       303   N3CYAA  LGA    ORD  140      733      6    30    \n",
              "5  4        AA       305   N4WNAA  LGA    ORD  143      733      7     0    \n",
              "6 20        UA      1092   N26226  LGA    ORD  135      733      7     0    \n",
              "  time_hour          \n",
              "1 2013-01-01 05:00:00\n",
              "2 2013-01-01 06:00:00\n",
              "3 2013-01-01 06:00:00\n",
              "4 2013-01-01 06:00:00\n",
              "5 2013-01-01 07:00:00\n",
              "6 2013-01-01 07:00:00"
            ],
            "text/latex": "A tibble: 6 × 19\n\\begin{tabular}{lllllllllllllllllll}\n year & month & day & dep\\_time & sched\\_dep\\_time & dep\\_delay & arr\\_time & sched\\_arr\\_time & arr\\_delay & carrier & flight & tailnum & origin & dest & air\\_time & distance & hour & minute & time\\_hour\\\\\n <int> & <int> & <int> & <int> & <int> & <dbl> & <int> & <int> & <dbl> & <chr> & <int> & <chr> & <chr> & <chr> & <dbl> & <dbl> & <dbl> & <dbl> & <dttm>\\\\\n\\hline\n\t 2013 & 1 & 1 & 554 & 558 & -4 & 740 & 728 & 12 & UA & 1696 & N39463 & EWR & ORD & 150 & 719 & 5 & 58 & 2013-01-01 05:00:00\\\\\n\t 2013 & 1 & 1 & 558 & 600 & -2 & 753 & 745 &  8 & AA &  301 & N3ALAA & LGA & ORD & 138 & 733 & 6 &  0 & 2013-01-01 06:00:00\\\\\n\t 2013 & 1 & 1 & 608 & 600 &  8 & 807 & 735 & 32 & MQ & 3768 & N9EAMQ & EWR & ORD & 139 & 719 & 6 &  0 & 2013-01-01 06:00:00\\\\\n\t 2013 & 1 & 1 & 629 & 630 & -1 & 824 & 810 & 14 & AA &  303 & N3CYAA & LGA & ORD & 140 & 733 & 6 & 30 & 2013-01-01 06:00:00\\\\\n\t 2013 & 1 & 1 & 656 & 700 & -4 & 854 & 850 &  4 & AA &  305 & N4WNAA & LGA & ORD & 143 & 733 & 7 &  0 & 2013-01-01 07:00:00\\\\\n\t 2013 & 1 & 1 & 709 & 700 &  9 & 852 & 832 & 20 & UA & 1092 & N26226 & LGA & ORD & 135 & 733 & 7 &  0 & 2013-01-01 07:00:00\\\\\n\\end{tabular}\n",
            "text/markdown": "\nA tibble: 6 × 19\n\n| year &lt;int&gt; | month &lt;int&gt; | day &lt;int&gt; | dep_time &lt;int&gt; | sched_dep_time &lt;int&gt; | dep_delay &lt;dbl&gt; | arr_time &lt;int&gt; | sched_arr_time &lt;int&gt; | arr_delay &lt;dbl&gt; | carrier &lt;chr&gt; | flight &lt;int&gt; | tailnum &lt;chr&gt; | origin &lt;chr&gt; | dest &lt;chr&gt; | air_time &lt;dbl&gt; | distance &lt;dbl&gt; | hour &lt;dbl&gt; | minute &lt;dbl&gt; | time_hour &lt;dttm&gt; |\n|---|---|---|---|---|---|---|---|---|---|---|---|---|---|---|---|---|---|---|\n| 2013 | 1 | 1 | 554 | 558 | -4 | 740 | 728 | 12 | UA | 1696 | N39463 | EWR | ORD | 150 | 719 | 5 | 58 | 2013-01-01 05:00:00 |\n| 2013 | 1 | 1 | 558 | 600 | -2 | 753 | 745 |  8 | AA |  301 | N3ALAA | LGA | ORD | 138 | 733 | 6 |  0 | 2013-01-01 06:00:00 |\n| 2013 | 1 | 1 | 608 | 600 |  8 | 807 | 735 | 32 | MQ | 3768 | N9EAMQ | EWR | ORD | 139 | 719 | 6 |  0 | 2013-01-01 06:00:00 |\n| 2013 | 1 | 1 | 629 | 630 | -1 | 824 | 810 | 14 | AA |  303 | N3CYAA | LGA | ORD | 140 | 733 | 6 | 30 | 2013-01-01 06:00:00 |\n| 2013 | 1 | 1 | 656 | 700 | -4 | 854 | 850 |  4 | AA |  305 | N4WNAA | LGA | ORD | 143 | 733 | 7 |  0 | 2013-01-01 07:00:00 |\n| 2013 | 1 | 1 | 709 | 700 |  9 | 852 | 832 | 20 | UA | 1092 | N26226 | LGA | ORD | 135 | 733 | 7 |  0 | 2013-01-01 07:00:00 |\n\n",
            "text/html": [
              "<table class=\"dataframe\">\n",
              "<caption>A tibble: 6 × 19</caption>\n",
              "<thead>\n",
              "\t<tr><th scope=col>year</th><th scope=col>month</th><th scope=col>day</th><th scope=col>dep_time</th><th scope=col>sched_dep_time</th><th scope=col>dep_delay</th><th scope=col>arr_time</th><th scope=col>sched_arr_time</th><th scope=col>arr_delay</th><th scope=col>carrier</th><th scope=col>flight</th><th scope=col>tailnum</th><th scope=col>origin</th><th scope=col>dest</th><th scope=col>air_time</th><th scope=col>distance</th><th scope=col>hour</th><th scope=col>minute</th><th scope=col>time_hour</th></tr>\n",
              "\t<tr><th scope=col>&lt;int&gt;</th><th scope=col>&lt;int&gt;</th><th scope=col>&lt;int&gt;</th><th scope=col>&lt;int&gt;</th><th scope=col>&lt;int&gt;</th><th scope=col>&lt;dbl&gt;</th><th scope=col>&lt;int&gt;</th><th scope=col>&lt;int&gt;</th><th scope=col>&lt;dbl&gt;</th><th scope=col>&lt;chr&gt;</th><th scope=col>&lt;int&gt;</th><th scope=col>&lt;chr&gt;</th><th scope=col>&lt;chr&gt;</th><th scope=col>&lt;chr&gt;</th><th scope=col>&lt;dbl&gt;</th><th scope=col>&lt;dbl&gt;</th><th scope=col>&lt;dbl&gt;</th><th scope=col>&lt;dbl&gt;</th><th scope=col>&lt;dttm&gt;</th></tr>\n",
              "</thead>\n",
              "<tbody>\n",
              "\t<tr><td>2013</td><td>1</td><td>1</td><td>554</td><td>558</td><td>-4</td><td>740</td><td>728</td><td>12</td><td>UA</td><td>1696</td><td>N39463</td><td>EWR</td><td>ORD</td><td>150</td><td>719</td><td>5</td><td>58</td><td>2013-01-01 05:00:00</td></tr>\n",
              "\t<tr><td>2013</td><td>1</td><td>1</td><td>558</td><td>600</td><td>-2</td><td>753</td><td>745</td><td> 8</td><td>AA</td><td> 301</td><td>N3ALAA</td><td>LGA</td><td>ORD</td><td>138</td><td>733</td><td>6</td><td> 0</td><td>2013-01-01 06:00:00</td></tr>\n",
              "\t<tr><td>2013</td><td>1</td><td>1</td><td>608</td><td>600</td><td> 8</td><td>807</td><td>735</td><td>32</td><td>MQ</td><td>3768</td><td>N9EAMQ</td><td>EWR</td><td>ORD</td><td>139</td><td>719</td><td>6</td><td> 0</td><td>2013-01-01 06:00:00</td></tr>\n",
              "\t<tr><td>2013</td><td>1</td><td>1</td><td>629</td><td>630</td><td>-1</td><td>824</td><td>810</td><td>14</td><td>AA</td><td> 303</td><td>N3CYAA</td><td>LGA</td><td>ORD</td><td>140</td><td>733</td><td>6</td><td>30</td><td>2013-01-01 06:00:00</td></tr>\n",
              "\t<tr><td>2013</td><td>1</td><td>1</td><td>656</td><td>700</td><td>-4</td><td>854</td><td>850</td><td> 4</td><td>AA</td><td> 305</td><td>N4WNAA</td><td>LGA</td><td>ORD</td><td>143</td><td>733</td><td>7</td><td> 0</td><td>2013-01-01 07:00:00</td></tr>\n",
              "\t<tr><td>2013</td><td>1</td><td>1</td><td>709</td><td>700</td><td> 9</td><td>852</td><td>832</td><td>20</td><td>UA</td><td>1092</td><td>N26226</td><td>LGA</td><td>ORD</td><td>135</td><td>733</td><td>7</td><td> 0</td><td>2013-01-01 07:00:00</td></tr>\n",
              "</tbody>\n",
              "</table>\n"
            ]
          },
          "metadata": {
            "tags": []
          }
        }
      ]
    },
    {
      "cell_type": "code",
      "metadata": {
        "colab": {
          "base_uri": "https://localhost:8080/",
          "height": 405
        },
        "id": "tf-pifoJJDVE",
        "outputId": "bfa62033-9c36-47bc-ffd0-e47a79c4c002"
      },
      "source": [
        "flights %>% filter(month == 1 & day == 1 & dest %in% c('ORD','LAS')) %>% head()"
      ],
      "execution_count": null,
      "outputs": [
        {
          "output_type": "display_data",
          "data": {
            "text/plain": [
              "  year month day dep_time sched_dep_time dep_delay arr_time sched_arr_time\n",
              "1 2013 1     1   554      558            -4        740      728           \n",
              "2 2013 1     1   558      600            -2        753      745           \n",
              "3 2013 1     1   559      600            -1        854      902           \n",
              "4 2013 1     1   608      600             8        807      735           \n",
              "5 2013 1     1   629      630            -1        824      810           \n",
              "6 2013 1     1   651      655            -4        936      942           \n",
              "  arr_delay carrier flight tailnum origin dest air_time distance hour minute\n",
              "1 12        UA      1696   N39463  EWR    ORD  150       719     5    58    \n",
              "2  8        AA       301   N3ALAA  LGA    ORD  138       733     6     0    \n",
              "3 -8        UA      1187   N76515  EWR    LAS  337      2227     6     0    \n",
              "4 32        MQ      3768   N9EAMQ  EWR    ORD  139       719     6     0    \n",
              "5 14        AA       303   N3CYAA  LGA    ORD  140       733     6    30    \n",
              "6 -6        B6       203   N558JB  JFK    LAS  323      2248     6    55    \n",
              "  time_hour          \n",
              "1 2013-01-01 05:00:00\n",
              "2 2013-01-01 06:00:00\n",
              "3 2013-01-01 06:00:00\n",
              "4 2013-01-01 06:00:00\n",
              "5 2013-01-01 06:00:00\n",
              "6 2013-01-01 06:00:00"
            ],
            "text/latex": "A tibble: 6 × 19\n\\begin{tabular}{lllllllllllllllllll}\n year & month & day & dep\\_time & sched\\_dep\\_time & dep\\_delay & arr\\_time & sched\\_arr\\_time & arr\\_delay & carrier & flight & tailnum & origin & dest & air\\_time & distance & hour & minute & time\\_hour\\\\\n <int> & <int> & <int> & <int> & <int> & <dbl> & <int> & <int> & <dbl> & <chr> & <int> & <chr> & <chr> & <chr> & <dbl> & <dbl> & <dbl> & <dbl> & <dttm>\\\\\n\\hline\n\t 2013 & 1 & 1 & 554 & 558 & -4 & 740 & 728 & 12 & UA & 1696 & N39463 & EWR & ORD & 150 &  719 & 5 & 58 & 2013-01-01 05:00:00\\\\\n\t 2013 & 1 & 1 & 558 & 600 & -2 & 753 & 745 &  8 & AA &  301 & N3ALAA & LGA & ORD & 138 &  733 & 6 &  0 & 2013-01-01 06:00:00\\\\\n\t 2013 & 1 & 1 & 559 & 600 & -1 & 854 & 902 & -8 & UA & 1187 & N76515 & EWR & LAS & 337 & 2227 & 6 &  0 & 2013-01-01 06:00:00\\\\\n\t 2013 & 1 & 1 & 608 & 600 &  8 & 807 & 735 & 32 & MQ & 3768 & N9EAMQ & EWR & ORD & 139 &  719 & 6 &  0 & 2013-01-01 06:00:00\\\\\n\t 2013 & 1 & 1 & 629 & 630 & -1 & 824 & 810 & 14 & AA &  303 & N3CYAA & LGA & ORD & 140 &  733 & 6 & 30 & 2013-01-01 06:00:00\\\\\n\t 2013 & 1 & 1 & 651 & 655 & -4 & 936 & 942 & -6 & B6 &  203 & N558JB & JFK & LAS & 323 & 2248 & 6 & 55 & 2013-01-01 06:00:00\\\\\n\\end{tabular}\n",
            "text/markdown": "\nA tibble: 6 × 19\n\n| year &lt;int&gt; | month &lt;int&gt; | day &lt;int&gt; | dep_time &lt;int&gt; | sched_dep_time &lt;int&gt; | dep_delay &lt;dbl&gt; | arr_time &lt;int&gt; | sched_arr_time &lt;int&gt; | arr_delay &lt;dbl&gt; | carrier &lt;chr&gt; | flight &lt;int&gt; | tailnum &lt;chr&gt; | origin &lt;chr&gt; | dest &lt;chr&gt; | air_time &lt;dbl&gt; | distance &lt;dbl&gt; | hour &lt;dbl&gt; | minute &lt;dbl&gt; | time_hour &lt;dttm&gt; |\n|---|---|---|---|---|---|---|---|---|---|---|---|---|---|---|---|---|---|---|\n| 2013 | 1 | 1 | 554 | 558 | -4 | 740 | 728 | 12 | UA | 1696 | N39463 | EWR | ORD | 150 |  719 | 5 | 58 | 2013-01-01 05:00:00 |\n| 2013 | 1 | 1 | 558 | 600 | -2 | 753 | 745 |  8 | AA |  301 | N3ALAA | LGA | ORD | 138 |  733 | 6 |  0 | 2013-01-01 06:00:00 |\n| 2013 | 1 | 1 | 559 | 600 | -1 | 854 | 902 | -8 | UA | 1187 | N76515 | EWR | LAS | 337 | 2227 | 6 |  0 | 2013-01-01 06:00:00 |\n| 2013 | 1 | 1 | 608 | 600 |  8 | 807 | 735 | 32 | MQ | 3768 | N9EAMQ | EWR | ORD | 139 |  719 | 6 |  0 | 2013-01-01 06:00:00 |\n| 2013 | 1 | 1 | 629 | 630 | -1 | 824 | 810 | 14 | AA |  303 | N3CYAA | LGA | ORD | 140 |  733 | 6 | 30 | 2013-01-01 06:00:00 |\n| 2013 | 1 | 1 | 651 | 655 | -4 | 936 | 942 | -6 | B6 |  203 | N558JB | JFK | LAS | 323 | 2248 | 6 | 55 | 2013-01-01 06:00:00 |\n\n",
            "text/html": [
              "<table class=\"dataframe\">\n",
              "<caption>A tibble: 6 × 19</caption>\n",
              "<thead>\n",
              "\t<tr><th scope=col>year</th><th scope=col>month</th><th scope=col>day</th><th scope=col>dep_time</th><th scope=col>sched_dep_time</th><th scope=col>dep_delay</th><th scope=col>arr_time</th><th scope=col>sched_arr_time</th><th scope=col>arr_delay</th><th scope=col>carrier</th><th scope=col>flight</th><th scope=col>tailnum</th><th scope=col>origin</th><th scope=col>dest</th><th scope=col>air_time</th><th scope=col>distance</th><th scope=col>hour</th><th scope=col>minute</th><th scope=col>time_hour</th></tr>\n",
              "\t<tr><th scope=col>&lt;int&gt;</th><th scope=col>&lt;int&gt;</th><th scope=col>&lt;int&gt;</th><th scope=col>&lt;int&gt;</th><th scope=col>&lt;int&gt;</th><th scope=col>&lt;dbl&gt;</th><th scope=col>&lt;int&gt;</th><th scope=col>&lt;int&gt;</th><th scope=col>&lt;dbl&gt;</th><th scope=col>&lt;chr&gt;</th><th scope=col>&lt;int&gt;</th><th scope=col>&lt;chr&gt;</th><th scope=col>&lt;chr&gt;</th><th scope=col>&lt;chr&gt;</th><th scope=col>&lt;dbl&gt;</th><th scope=col>&lt;dbl&gt;</th><th scope=col>&lt;dbl&gt;</th><th scope=col>&lt;dbl&gt;</th><th scope=col>&lt;dttm&gt;</th></tr>\n",
              "</thead>\n",
              "<tbody>\n",
              "\t<tr><td>2013</td><td>1</td><td>1</td><td>554</td><td>558</td><td>-4</td><td>740</td><td>728</td><td>12</td><td>UA</td><td>1696</td><td>N39463</td><td>EWR</td><td>ORD</td><td>150</td><td> 719</td><td>5</td><td>58</td><td>2013-01-01 05:00:00</td></tr>\n",
              "\t<tr><td>2013</td><td>1</td><td>1</td><td>558</td><td>600</td><td>-2</td><td>753</td><td>745</td><td> 8</td><td>AA</td><td> 301</td><td>N3ALAA</td><td>LGA</td><td>ORD</td><td>138</td><td> 733</td><td>6</td><td> 0</td><td>2013-01-01 06:00:00</td></tr>\n",
              "\t<tr><td>2013</td><td>1</td><td>1</td><td>559</td><td>600</td><td>-1</td><td>854</td><td>902</td><td>-8</td><td>UA</td><td>1187</td><td>N76515</td><td>EWR</td><td>LAS</td><td>337</td><td>2227</td><td>6</td><td> 0</td><td>2013-01-01 06:00:00</td></tr>\n",
              "\t<tr><td>2013</td><td>1</td><td>1</td><td>608</td><td>600</td><td> 8</td><td>807</td><td>735</td><td>32</td><td>MQ</td><td>3768</td><td>N9EAMQ</td><td>EWR</td><td>ORD</td><td>139</td><td> 719</td><td>6</td><td> 0</td><td>2013-01-01 06:00:00</td></tr>\n",
              "\t<tr><td>2013</td><td>1</td><td>1</td><td>629</td><td>630</td><td>-1</td><td>824</td><td>810</td><td>14</td><td>AA</td><td> 303</td><td>N3CYAA</td><td>LGA</td><td>ORD</td><td>140</td><td> 733</td><td>6</td><td>30</td><td>2013-01-01 06:00:00</td></tr>\n",
              "\t<tr><td>2013</td><td>1</td><td>1</td><td>651</td><td>655</td><td>-4</td><td>936</td><td>942</td><td>-6</td><td>B6</td><td> 203</td><td>N558JB</td><td>JFK</td><td>LAS</td><td>323</td><td>2248</td><td>6</td><td>55</td><td>2013-01-01 06:00:00</td></tr>\n",
              "</tbody>\n",
              "</table>\n"
            ]
          },
          "metadata": {
            "tags": []
          }
        }
      ]
    },
    {
      "cell_type": "code",
      "metadata": {
        "id": "p2oDrTPOGpPy"
      },
      "source": [
        ""
      ],
      "execution_count": null,
      "outputs": []
    },
    {
      "cell_type": "code",
      "metadata": {
        "id": "1r7Cy4LAGNur"
      },
      "source": [
        ""
      ],
      "execution_count": null,
      "outputs": []
    },
    {
      "cell_type": "markdown",
      "metadata": {
        "id": "Q1URjHShsycC"
      },
      "source": [
        "## Add some coding practice using dplyr"
      ]
    },
    {
      "cell_type": "markdown",
      "metadata": {
        "id": "Awn2wTngs4Tf"
      },
      "source": [
        "## visualize using ggplot"
      ]
    },
    {
      "cell_type": "code",
      "metadata": {
        "id": "vAJe8Uz7sdFt"
      },
      "source": [
        ""
      ],
      "execution_count": null,
      "outputs": []
    }
  ]
}